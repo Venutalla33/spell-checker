{
 "cells": [
  {
   "cell_type": "code",
   "execution_count": 1,
   "id": "c181f3ff",
   "metadata": {},
   "outputs": [],
   "source": [
    "import re\n",
    "import pandas as pd\n",
    "from tqdm import tqdm"
   ]
  },
  {
   "cell_type": "markdown",
   "id": "1db8cbf8",
   "metadata": {},
   "source": [
    "# 1. Finding the Unique Words"
   ]
  },
  {
   "cell_type": "code",
   "execution_count": 3,
   "id": "888696d4",
   "metadata": {},
   "outputs": [
    {
     "name": "stdout",
     "output_type": "stream",
     "text": [
      "1115585\n",
      "32198\n"
     ]
    }
   ],
   "source": [
    "with open('big.txt','r') as fd:\n",
    "    lines = fd.readlines()\n",
    "    words = []\n",
    "    for line in lines:\n",
    "        words += re.findall('\\w+',line.lower())\n",
    "        \n",
    "print(len(words))\n",
    "vocab = list(set(words))\n",
    "print(len(vocab))"
   ]
  },
  {
   "cell_type": "markdown",
   "id": "cb0c2a28",
   "metadata": {},
   "source": [
    "# 2. Finding the Probability Distribution"
   ]
  },
  {
   "cell_type": "code",
   "execution_count": 4,
   "id": "c87696b1",
   "metadata": {},
   "outputs": [
    {
     "name": "stderr",
     "output_type": "stream",
     "text": [
      "100%|██████████| 32198/32198 [18:37<00:00, 28.82it/s]\n"
     ]
    }
   ],
   "source": [
    "word_probability = {}\n",
    "\n",
    "for word in tqdm(vocab):\n",
    "    word_probability[word] = float(words.count(word)/len(words))"
   ]
  },
  {
   "cell_type": "markdown",
   "id": "60ea5835",
   "metadata": {},
   "source": [
    "# 3. Text Preprocessing"
   ]
  },
  {
   "cell_type": "markdown",
   "id": "8c0bbb3e",
   "metadata": {},
   "source": [
    "# Splitting"
   ]
  },
  {
   "cell_type": "code",
   "execution_count": 6,
   "id": "d5a77805",
   "metadata": {},
   "outputs": [],
   "source": [
    "def split(word):  \n",
    "    parts = []\n",
    "    for i in range(len(word) + 1):\n",
    "        parts += [(word[ : i], word[i : ])]\n",
    "    return parts"
   ]
  },
  {
   "cell_type": "code",
   "execution_count": 30,
   "id": "272bf48c",
   "metadata": {},
   "outputs": [
    {
     "data": {
      "text/plain": [
       "[('', 'venu'), ('v', 'enu'), ('ve', 'nu'), ('ven', 'u'), ('venu', '')]"
      ]
     },
     "execution_count": 30,
     "metadata": {},
     "output_type": "execute_result"
    }
   ],
   "source": [
    "split('venu')"
   ]
  },
  {
   "cell_type": "markdown",
   "id": "65ea6443",
   "metadata": {},
   "source": [
    "# 3.1) Delete"
   ]
  },
  {
   "cell_type": "markdown",
   "id": "d5465593",
   "metadata": {},
   "source": [
    "'loave' -> 'love'"
   ]
  },
  {
   "cell_type": "code",
   "execution_count": 18,
   "id": "40f104da",
   "metadata": {},
   "outputs": [
    {
     "data": {
      "text/plain": [
       "['oave', 'lave', 'love', 'loae', 'loav', 'loave']"
      ]
     },
     "execution_count": 18,
     "metadata": {},
     "output_type": "execute_result"
    }
   ],
   "source": [
    "def delete(word):\n",
    "    \n",
    "    output = []\n",
    "    for l,r in split(word):\n",
    "        output.append(l + r[1:])\n",
    "    return output\n",
    "\n",
    "delete('loave')"
   ]
  },
  {
   "cell_type": "markdown",
   "id": "09a0ca5a",
   "metadata": {},
   "source": [
    "# 3.2) Swap"
   ]
  },
  {
   "cell_type": "markdown",
   "id": "aa16c3c5",
   "metadata": {},
   "source": [
    "'lvoe' -> 'love'"
   ]
  },
  {
   "cell_type": "code",
   "execution_count": 10,
   "id": "fdb94e91",
   "metadata": {},
   "outputs": [
    {
     "data": {
      "text/plain": [
       "['vloe', 'love', 'lveo']"
      ]
     },
     "execution_count": 10,
     "metadata": {},
     "output_type": "execute_result"
    }
   ],
   "source": [
    "def swap(word):\n",
    "        \n",
    "    output = []    \n",
    "    for l,r in split(word):\n",
    "        if (len(r) > 1):\n",
    "            output.append(l + r[1] + r[0] + r[2:])\n",
    "    return output\n",
    "            \n",
    "swap('lvoe')"
   ]
  },
  {
   "cell_type": "markdown",
   "id": "08d75c26",
   "metadata": {},
   "source": [
    "# 3.3) Replace"
   ]
  },
  {
   "cell_type": "markdown",
   "id": "c00e7ac9",
   "metadata": {},
   "source": [
    "'lave' -> 'love'"
   ]
  },
  {
   "cell_type": "code",
   "execution_count": 32,
   "id": "a1699a3a",
   "metadata": {},
   "outputs": [
    {
     "name": "stdout",
     "output_type": "stream",
     "text": [
      "['aave', 'bave', 'cave', 'dave', 'eave', 'fave', 'gave', 'have', 'iave', 'jave', 'kave', 'lave', 'mave', 'nave', 'oave', 'pave', 'qave', 'rave', 'save', 'tave', 'uave', 'vave', 'wave', 'xave', 'yave', 'zave', 'lave', 'lbve', 'lcve', 'ldve', 'leve', 'lfve', 'lgve', 'lhve', 'live', 'ljve', 'lkve', 'llve', 'lmve', 'lnve', 'love', 'lpve', 'lqve', 'lrve', 'lsve', 'ltve', 'luve', 'lvve', 'lwve', 'lxve', 'lyve', 'lzve', 'laae', 'labe', 'lace', 'lade', 'laee', 'lafe', 'lage', 'lahe', 'laie', 'laje', 'lake', 'lale', 'lame', 'lane', 'laoe', 'lape', 'laqe', 'lare', 'lase', 'late', 'laue', 'lave', 'lawe', 'laxe', 'laye', 'laze', 'lava', 'lavb', 'lavc', 'lavd', 'lave', 'lavf', 'lavg', 'lavh', 'lavi', 'lavj', 'lavk', 'lavl', 'lavm', 'lavn', 'lavo', 'lavp', 'lavq', 'lavr', 'lavs', 'lavt', 'lavu', 'lavv', 'lavw', 'lavx', 'lavy', 'lavz', 'lavea', 'laveb', 'lavec', 'laved', 'lavee', 'lavef', 'laveg', 'laveh', 'lavei', 'lavej', 'lavek', 'lavel', 'lavem', 'laven', 'laveo', 'lavep', 'laveq', 'laver', 'laves', 'lavet', 'laveu', 'lavev', 'lavew', 'lavex', 'lavey', 'lavez']\n"
     ]
    },
    {
     "data": {
      "text/plain": [
       "130"
      ]
     },
     "execution_count": 32,
     "metadata": {},
     "output_type": "execute_result"
    }
   ],
   "source": [
    "def replace(word):\n",
    "    \n",
    "    characters = 'abcdefghijklmnopqrstuvwxyz'\n",
    "    output = []    \n",
    "\n",
    "    for l,r in split(word):\n",
    "        for char in characters:\n",
    "            output.append(l + char +  r[1:])\n",
    "    return output\n",
    "\n",
    "print(replace('lave'))\n",
    "len(replace('lave'))"
   ]
  },
  {
   "cell_type": "markdown",
   "id": "10823b76",
   "metadata": {},
   "source": [
    "# 3.4) Insert"
   ]
  },
  {
   "cell_type": "markdown",
   "id": "95cf9a5d",
   "metadata": {},
   "source": [
    "'lve' -> 'love'"
   ]
  },
  {
   "cell_type": "code",
   "execution_count": 34,
   "id": "ae1b9da4",
   "metadata": {},
   "outputs": [
    {
     "name": "stdout",
     "output_type": "stream",
     "text": [
      "['alve', 'blve', 'clve', 'dlve', 'elve', 'flve', 'glve', 'hlve', 'ilve', 'jlve', 'klve', 'llve', 'mlve', 'nlve', 'olve', 'plve', 'qlve', 'rlve', 'slve', 'tlve', 'ulve', 'vlve', 'wlve', 'xlve', 'ylve', 'zlve', 'lave', 'lbve', 'lcve', 'ldve', 'leve', 'lfve', 'lgve', 'lhve', 'live', 'ljve', 'lkve', 'llve', 'lmve', 'lnve', 'love', 'lpve', 'lqve', 'lrve', 'lsve', 'ltve', 'luve', 'lvve', 'lwve', 'lxve', 'lyve', 'lzve', 'lvae', 'lvbe', 'lvce', 'lvde', 'lvee', 'lvfe', 'lvge', 'lvhe', 'lvie', 'lvje', 'lvke', 'lvle', 'lvme', 'lvne', 'lvoe', 'lvpe', 'lvqe', 'lvre', 'lvse', 'lvte', 'lvue', 'lvve', 'lvwe', 'lvxe', 'lvye', 'lvze', 'lvea', 'lveb', 'lvec', 'lved', 'lvee', 'lvef', 'lveg', 'lveh', 'lvei', 'lvej', 'lvek', 'lvel', 'lvem', 'lven', 'lveo', 'lvep', 'lveq', 'lver', 'lves', 'lvet', 'lveu', 'lvev', 'lvew', 'lvex', 'lvey', 'lvez']\n"
     ]
    },
    {
     "data": {
      "text/plain": [
       "104"
      ]
     },
     "execution_count": 34,
     "metadata": {},
     "output_type": "execute_result"
    }
   ],
   "source": [
    "def insert(word):\n",
    "\n",
    "    characters = 'abcdefghijklmnopqrstuvwxyz'\n",
    "    output = []\n",
    "\n",
    "    for l,r in split(word):\n",
    "        for char in characters:\n",
    "            output.append(l + char + r)\n",
    "\n",
    "    return output\n",
    "\n",
    "print(insert('lve'))\n",
    "len(insert('lve'))"
   ]
  },
  {
   "cell_type": "markdown",
   "id": "bcaa2755",
   "metadata": {},
   "source": [
    "# 4. Finding the Prediction (Level - 1)"
   ]
  },
  {
   "cell_type": "markdown",
   "id": "4a38e1c7",
   "metadata": {},
   "source": [
    "# 4.1) Combining Possible Words"
   ]
  },
  {
   "cell_type": "code",
   "execution_count": 13,
   "id": "7aa2422c",
   "metadata": {},
   "outputs": [],
   "source": [
    "def edit(word):   \n",
    "    return list(set(insert(word) + delete(word) + swap(word) + replace(word)))"
   ]
  },
  {
   "cell_type": "markdown",
   "id": "0344b582",
   "metadata": {},
   "source": [
    "# 4.2) Predicting the Word"
   ]
  },
  {
   "cell_type": "code",
   "execution_count": 14,
   "id": "df6953d3",
   "metadata": {},
   "outputs": [],
   "source": [
    "def spell_check_edit_1(word, count = 5):\n",
    "    \n",
    "    output = []\n",
    "    suggested_words = edit(word)\n",
    "    \n",
    "    for wrd in suggested_words:        \n",
    "        if wrd in word_probability.keys():\n",
    "            output.append([wrd, word_probability[wrd]])\n",
    "            \n",
    "    return list(pd.DataFrame(output, columns = ['word','prob']).sort_values(by = 'prob', ascending = False).head(count)['word'].values)\n"
   ]
  },
  {
   "cell_type": "code",
   "execution_count": 24,
   "id": "c961ffd5",
   "metadata": {},
   "outputs": [
    {
     "data": {
      "text/plain": [
       "['family']"
      ]
     },
     "execution_count": 24,
     "metadata": {},
     "output_type": "execute_result"
    }
   ],
   "source": [
    "spell_check_edit_1('famili')"
   ]
  },
  {
   "cell_type": "code",
   "execution_count": 25,
   "id": "d25f88f5",
   "metadata": {},
   "outputs": [
    {
     "data": {
      "text/plain": [
       "[]"
      ]
     },
     "execution_count": 25,
     "metadata": {},
     "output_type": "execute_result"
    }
   ],
   "source": [
    "spell_check_edit_1('fameli')"
   ]
  },
  {
   "cell_type": "markdown",
   "id": "b025337b",
   "metadata": {},
   "source": [
    "# 5. Finding the Prediction (Level - 2)"
   ]
  },
  {
   "cell_type": "markdown",
   "id": "130e5ced",
   "metadata": {},
   "source": [
    "# 5.1) Combining Possible Words"
   ]
  },
  {
   "cell_type": "code",
   "execution_count": 16,
   "id": "99c66148",
   "metadata": {},
   "outputs": [
    {
     "data": {
      "text/plain": [
       "['family', 'namely', 'fame', 'amelie', 'camel']"
      ]
     },
     "execution_count": 16,
     "metadata": {},
     "output_type": "execute_result"
    }
   ],
   "source": [
    "def spell_check_edit_2(word, count = 5):\n",
    "    \n",
    "    output = []\n",
    "    suggested_words = edit(word)       # Level one Edit\n",
    "    \n",
    "    for e1 in edit(word):\n",
    "        suggested_words += edit(e1)    # Second Level Edit \n",
    "    \n",
    "    suggested_words = list(set(suggested_words))\n",
    "    \n",
    "    for wrd in suggested_words:\n",
    "        if wrd in word_probability.keys():\n",
    "            output.append([wrd, word_probability[wrd]])\n",
    "    return list(pd.DataFrame(output, columns = ['word','prob']).sort_values(by = 'prob', ascending = False).head(count)['word'].values)\n",
    "        \n",
    "spell_check_edit_2('fameli')"
   ]
  },
  {
   "cell_type": "code",
   "execution_count": 29,
   "id": "7b71bad6",
   "metadata": {},
   "outputs": [
    {
     "data": {
      "text/plain": [
       "['in', 'he', 'on', 'be', 'her']"
      ]
     },
     "execution_count": 29,
     "metadata": {},
     "output_type": "execute_result"
    }
   ],
   "source": [
    "spell_check_edit_2('ven')"
   ]
  },
  {
   "cell_type": "code",
   "execution_count": null,
   "id": "5a85e58e",
   "metadata": {},
   "outputs": [],
   "source": []
  }
 ],
 "metadata": {
  "kernelspec": {
   "display_name": "Python 3 (ipykernel)",
   "language": "python",
   "name": "python3"
  },
  "language_info": {
   "codemirror_mode": {
    "name": "ipython",
    "version": 3
   },
   "file_extension": ".py",
   "mimetype": "text/x-python",
   "name": "python",
   "nbconvert_exporter": "python",
   "pygments_lexer": "ipython3",
   "version": "3.11.5"
  }
 },
 "nbformat": 4,
 "nbformat_minor": 5
}
